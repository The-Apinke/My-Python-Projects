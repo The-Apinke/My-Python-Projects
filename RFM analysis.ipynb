{
 "cells": [
  {
   "cell_type": "markdown",
   "id": "86c0f80d",
   "metadata": {},
   "source": [
    "# How Businesses Know What Offers to Give You"
   ]
  },
  {
   "cell_type": "markdown",
   "id": "ad08f7bb",
   "metadata": {},
   "source": [
    "Have you ever wondered how businesses seem to know exactly when to send you that discount or offer?\n",
    "Whether it's a reward for being a loyal customer or an attempt to win you back after a while, the magic lies in something called RFM analysis.\n",
    "\n",
    "RFM stands for Recency, Frequency, and Monetary Value, it's a powerful way businesses analyze customer behavior to create targeted strategies. In this project, I'll show you how to perform RFM analysis using Python, from raw data to acutal customer insights."
   ]
  },
  {
   "cell_type": "code",
   "execution_count": null,
   "id": "baebfc35",
   "metadata": {},
   "outputs": [],
   "source": [
    " import pandas as pd\n",
    "\n",
    "#to load my data \n",
    "data = r'C:\\Users\\INIOLUWA\\Downloads\\Customers data.csv'\n",
    "df = pd.read_csv(data)"
   ]
  },
  {
   "cell_type": "code",
   "execution_count": 2,
   "id": "b3276ef5",
   "metadata": {},
   "outputs": [
    {
     "name": "stdout",
     "output_type": "stream",
     "text": [
      "TransactionID       0\n",
      "Customer-ID         0\n",
      "PurchaseAmount      0\n",
      "PurchaseDate        0\n",
      "PurchaseTime        0\n",
      "ProductID           0\n",
      "PurchaseQuantity    0\n",
      "dtype: int64\n"
     ]
    }
   ],
   "source": [
    "# Check for missing values\n",
    "print(df.isnull().sum())\n"
   ]
  },
  {
   "cell_type": "code",
   "execution_count": 3,
   "id": "0a459060",
   "metadata": {},
   "outputs": [
    {
     "name": "stdout",
     "output_type": "stream",
     "text": [
      "TransactionID                int64\n",
      "Customer-ID                 object\n",
      "PurchaseAmount               int64\n",
      "PurchaseDate        datetime64[ns]\n",
      "PurchaseTime                object\n",
      "ProductID                   object\n",
      "PurchaseQuantity             int64\n",
      "dtype: object\n"
     ]
    }
   ],
   "source": [
    "# Ensure 'PurchaseDate' is in datetime format\n",
    "df['PurchaseDate'] = pd.to_datetime(df['PurchaseDate'])\n",
    "\n",
    "# Confirm the data types\n",
    "print(df.dtypes)"
   ]
  },
  {
   "cell_type": "code",
   "execution_count": 4,
   "id": "e8f99241",
   "metadata": {},
   "outputs": [],
   "source": [
    "#use todays's date as my snaphshot date\n",
    "snapshot_date = pd.Timestamp('2024-11-18')"
   ]
  },
  {
   "cell_type": "code",
   "execution_count": 5,
   "id": "33b2aca5",
   "metadata": {
    "scrolled": true
   },
   "outputs": [
    {
     "name": "stdout",
     "output_type": "stream",
     "text": [
      "    Customer-ID  Recency  Frequency  MonetaryValue\n",
      "0    CUSTIDXX-0      150          2            419\n",
      "1    CUSTIDXX-1        4         16           9815\n",
      "2   CUSTIDXX-10      280          1            659\n",
      "3  CUSTIDXX-100       39          1            187\n",
      "4  CUSTIDXX-101       38          1            970\n"
     ]
    }
   ],
   "source": [
    "# Aggregate data to create the RFM table\n",
    "rfm = df.groupby('Customer-ID').agg({\n",
    "    # Recency\n",
    "    'PurchaseDate': lambda x: (snapshot_date - x.max()).days,\n",
    "    # Frequency\n",
    "    'Customer-ID': 'count',\n",
    "    # Monetary Value\n",
    "    'PurchaseAmount': 'sum'\n",
    "}).rename(columns={\n",
    "    'PurchaseDate': 'Recency',\n",
    "    'Customer-ID': 'Frequency',\n",
    "    'PurchaseAmount': 'MonetaryValue'\n",
    "}).reset_index()\n",
    "\n",
    "print(rfm.head())\n"
   ]
  },
  {
   "cell_type": "code",
   "execution_count": 6,
   "id": "72785fbe",
   "metadata": {},
   "outputs": [
    {
     "name": "stdout",
     "output_type": "stream",
     "text": [
      "      Customer-ID  Recency  Frequency  MonetaryValue\n",
      "0      CUSTIDXX-0      150          2            419\n",
      "1      CUSTIDXX-1        4         16           9815\n",
      "2     CUSTIDXX-10      280          1            659\n",
      "3    CUSTIDXX-100       39          1            187\n",
      "4    CUSTIDXX-101       38          1            970\n",
      "..            ...      ...        ...            ...\n",
      "128   CUSTIDXX-93       46          1           1038\n",
      "129   CUSTIDXX-95       44          1            649\n",
      "130   CUSTIDXX-97       42          1            523\n",
      "131   CUSTIDXX-98       41          1            440\n",
      "132   CUSTIDXX-99       40          1             75\n",
      "\n",
      "[133 rows x 4 columns]\n"
     ]
    }
   ],
   "source": [
    "print(rfm.head(200))"
   ]
  },
  {
   "cell_type": "code",
   "execution_count": 7,
   "id": "8557d078",
   "metadata": {},
   "outputs": [
    {
     "name": "stdout",
     "output_type": "stream",
     "text": [
      "    Customer-ID  Recency  Frequency  MonetaryValue R_Score F_Score M_Score  \\\n",
      "0    CUSTIDXX-0      150          2            419       2       1       1   \n",
      "1    CUSTIDXX-1        4         16           9815       4       1       4   \n",
      "2   CUSTIDXX-10      280          1            659       1       1       2   \n",
      "3  CUSTIDXX-100       39          1            187       4       1       1   \n",
      "4  CUSTIDXX-101       38          1            970       4       1       3   \n",
      "\n",
      "  RFM_Score  \n",
      "0       211  \n",
      "1       414  \n",
      "2       112  \n",
      "3       411  \n",
      "4       413  \n"
     ]
    }
   ],
   "source": [
    "\n",
    "# BIN 1: Recency (Lower values are better)\n",
    "rfm['R_Score'] = pd.qcut(rfm['Recency'], q=4, labels=[4, 3, 2, 1], duplicates='drop')\n",
    "\n",
    "# BIN 2: Frequency (Higher values are better)\n",
    "unique_bins = len(pd.qcut(rfm['Frequency'], q=4, retbins=True, duplicates='drop')[1]) - 1\n",
    "rfm['F_Score'] = pd.qcut(rfm['Frequency'], q=unique_bins, labels=range(1, unique_bins + 1))\n",
    "\n",
    "# BIN 3: Monetary Value (Higher values are better)\n",
    "unique_bins = len(pd.qcut(rfm['MonetaryValue'], q=4, retbins=True, duplicates='drop')[1]) - 1\n",
    "rfm['M_Score'] = pd.qcut(rfm['MonetaryValue'], q=unique_bins, labels=range(1, unique_bins + 1))\n",
    "\n",
    "# Combine R, F, M scores into a single RFM Score\n",
    "rfm['RFM_Score'] = rfm['R_Score'].astype(str) + rfm['F_Score'].astype(str) + rfm['M_Score'].astype(str)\n",
    "\n",
    "# Display the updated dataframe\n",
    "print(rfm.head())\n"
   ]
  },
  {
   "cell_type": "code",
   "execution_count": 8,
   "id": "bcd46d6a",
   "metadata": {},
   "outputs": [
    {
     "name": "stdout",
     "output_type": "stream",
     "text": [
      "  RFM_Score          Segment\n",
      "0       211           Others\n",
      "1       414  Loyal Customers\n",
      "2       112          At Risk\n",
      "3       411  Loyal Customers\n",
      "4       413  Loyal Customers\n"
     ]
    }
   ],
   "source": [
    "# Segment customers based on RFM_Score\n",
    "def segment_customer(rfm_score):\n",
    "    if rfm_score == '444':\n",
    "        return 'Champions'\n",
    "    elif rfm_score[0] == '4':  # High Recency Score\n",
    "        return 'Loyal Customers'\n",
    "    elif rfm_score[1] == '4':  # High Frequency Score\n",
    "        return 'Frequent Buyers'\n",
    "    elif rfm_score[2] == '4':  # High Monetary Score\n",
    "        return 'Big Spenders'\n",
    "    elif rfm_score[0] == '1':  # Low Recency Score\n",
    "        return 'At Risk'\n",
    "    else:\n",
    "        return 'Others'\n",
    "\n",
    "rfm['Segment'] = rfm['RFM_Score'].apply(segment_customer)\n",
    "print(rfm[['RFM_Score', 'Segment']].head())\n"
   ]
  },
  {
   "cell_type": "code",
   "execution_count": 11,
   "id": "bf5966c1",
   "metadata": {},
   "outputs": [
    {
     "name": "stdout",
     "output_type": "stream",
     "text": [
      "                    Recency  Frequency  MonetaryValue  CustomerCount\n",
      "Segment                                                             \n",
      "At Risk          273.214286   1.000000     664.214286             28\n",
      "Big Spenders     181.500000   1.500000    1901.166667             18\n",
      "Loyal Customers   21.117647   2.617647    2166.117647             34\n",
      "Others           158.094340   1.037736     654.509434             53\n"
     ]
    }
   ],
   "source": [
    "# Analyze customer segments\n",
    "segment_analysis = rfm.groupby('Segment').agg({\n",
    "    'Recency': 'mean',\n",
    "    'Frequency': 'mean',\n",
    "    'MonetaryValue': 'mean',\n",
    "     # Number of customers per segment\n",
    "    'Customer-ID': 'count' \n",
    "}).rename(columns={'Customer-ID': 'CustomerCount'})\n",
    "\n",
    "print(segment_analysis)\n"
   ]
  },
  {
   "cell_type": "code",
   "execution_count": 12,
   "id": "1247af94",
   "metadata": {
    "scrolled": true
   },
   "outputs": [
    {
     "data": {
      "image/png": "[encoded data removed]",
      "text/plain": [
       "<Figure size 1200x600 with 1 Axes>"
      ]
     },
     "metadata": {},
     "output_type": "display_data"
    }
   ],
   "source": [
    "import matplotlib.pyplot as plt\n",
    "import seaborn as sns\n",
    "\n",
    "# Bar chart of customer segments with data points\n",
    "plt.figure(figsize=(12, 6))\n",
    "sns.barplot(\n",
    "    x=segment_analysis['CustomerCount'].sort_values(ascending=False).index,\n",
    "    y=segment_analysis['CustomerCount'].sort_values(ascending=False),\n",
    "    palette=\"viridis\"\n",
    ")\n",
    "\n",
    "# Add data points on top of bars\n",
    "for i, value in enumerate(segment_analysis['CustomerCount'].sort_values(ascending=False)):\n",
    "    plt.text(\n",
    "        # x-coordinate of the text\n",
    "        i, \n",
    "         # y-coordinate (slightly above the bar)\n",
    "        value + 0.5, \n",
    "         # Text to display (the value)\n",
    "        str(value),           \n",
    "        # Horizontal alignment\n",
    "        ha='center',\n",
    "        # Font size\n",
    "        fontsize=10,\n",
    "         # Text color\n",
    "        color='black',\n",
    "           # Bold font\n",
    "        fontweight='bold'   \n",
    "    )\n",
    "\n",
    "# To Improve my visuals\n",
    "plt.title('Customer Segments Distribution', fontsize=16, fontweight='bold')\n",
    "plt.xlabel('Segment', fontsize=14)\n",
    "plt.ylabel('Number of Customers', fontsize=14)\n",
    "plt.xticks(fontsize=12, rotation=0)  \n",
    "plt.yticks(fontsize=12)\n",
    "plt.grid(axis='y', linestyle='--', alpha=0.2)\n",
    "\n",
    "# Display the chart\n",
    "plt.tight_layout()\n",
    "plt.show()\n"
   ]
  },
  {
   "cell_type": "markdown",
   "id": "ae9dbbae",
   "metadata": {},
   "source": [
    "To allow me export my results to a CSV file for further use or sharing"
   ]
  },
  {
   "cell_type": "code",
   "execution_count": 12,
   "id": "b9c99568",
   "metadata": {},
   "outputs": [],
   "source": [
    "rfm.to_csv('rfm_segmentation_results.csv', index=False)\n"
   ]
  },
  {
   "cell_type": "code",
   "execution_count": null,
   "id": "5ee38e8f",
   "metadata": {},
   "outputs": [],
   "source": []
  }
 ],
 "metadata": {
  "kernelspec": {
   "display_name": "Python 3 (ipykernel)",
   "language": "python",
   "name": "python3"
  },
  "language_info": {
   "codemirror_mode": {
    "name": "ipython",
    "version": 3
   },
   "file_extension": ".py",
   "mimetype": "text/x-python",
   "name": "python",
   "nbconvert_exporter": "python",
   "pygments_lexer": "ipython3",
   "version": "3.11.4"
  }
 },
 "nbformat": 4,
 "nbformat_minor": 5
}
